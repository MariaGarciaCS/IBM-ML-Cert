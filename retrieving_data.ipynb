{
 "cells": [
  {
   "cell_type": "markdown",
   "id": "0e69b043-4c33-4452-ac21-ccedc19938d4",
   "metadata": {},
   "source": [
    "# Importing CSV Files"
   ]
  },
  {
   "cell_type": "code",
   "execution_count": 2,
   "id": "eaa338f3-5721-4cdc-9657-4a1abdd9ef1b",
   "metadata": {},
   "outputs": [
    {
     "ename": "ModuleNotFoundError",
     "evalue": "No module named 'pandas'",
     "output_type": "error",
     "traceback": [
      "\u001b[1;31m---------------------------------------------------------------------------\u001b[0m",
      "\u001b[1;31mModuleNotFoundError\u001b[0m                       Traceback (most recent call last)",
      "Cell \u001b[1;32mIn[2], line 1\u001b[0m\n\u001b[1;32m----> 1\u001b[0m \u001b[38;5;28;01mimport\u001b[39;00m \u001b[38;5;21;01mpandas\u001b[39;00m \u001b[38;5;28;01mas\u001b[39;00m \u001b[38;5;21;01mpd\u001b[39;00m\n\u001b[0;32m      2\u001b[0m filepath \u001b[38;5;241m=\u001b[39m \u001b[38;5;124m'\u001b[39m\u001b[38;5;124mdata/iris_data.csv\u001b[39m\u001b[38;5;124m'\u001b[39m\n",
      "\u001b[1;31mModuleNotFoundError\u001b[0m: No module named 'pandas'"
     ]
    }
   ],
   "source": [
    "import pandas as pd\n",
    "filepath = 'data/iris_data.csv'"
   ]
  },
  {
   "cell_type": "code",
   "execution_count": 1,
   "id": "d3546ed0-4538-4799-ad63-ebe1683b8464",
   "metadata": {},
   "outputs": [
    {
     "ename": "NameError",
     "evalue": "name 'pd' is not defined",
     "output_type": "error",
     "traceback": [
      "\u001b[1;31m---------------------------------------------------------------------------\u001b[0m",
      "\u001b[1;31mNameError\u001b[0m                                 Traceback (most recent call last)",
      "Cell \u001b[1;32mIn[1], line 1\u001b[0m\n\u001b[1;32m----> 1\u001b[0m data \u001b[38;5;241m=\u001b[39m \u001b[43mpd\u001b[49m\u001b[38;5;241m.\u001b[39mread_csv(filepath, sep\u001b[38;5;241m=\u001b[39m\u001b[38;5;124m'\u001b[39m\u001b[38;5;130;01m\\t\u001b[39;00m\u001b[38;5;124m'\u001b[39m) \u001b[38;5;66;03m#t is the seperator here, often it is a comma\u001b[39;00m\n\u001b[0;32m      3\u001b[0m \u001b[38;5;66;03m##Other things that can be added\u001b[39;00m\n",
      "\u001b[1;31mNameError\u001b[0m: name 'pd' is not defined"
     ]
    }
   ],
   "source": [
    "data = pd.read_csv(filepath, sep='\\t') #t is the seperator here, often it is a comma"
   ]
  },
  {
   "cell_type": "markdown",
   "id": "053b4d57-28ac-4f0c-9ba9-5697fb805996",
   "metadata": {},
   "source": [
    "### Useful Arguments\n",
    "**tab separated file**\n",
    "\n",
    "data = pd.read_csv(filepath, sep='\\t')\n",
    "\n",
    "**space separated file**\n",
    "\n",
    "data = pd.read_csv(filepath, delin_whitespace=True)\n",
    "\n",
    "**dont use first row for col names**\n",
    "\n",
    "data = pd.read_csv(filepath, header=None)\n",
    "\n",
    "**specify col names**\n",
    "\n",
    "data = pd.read_csv(filepath, names = ['Name1', 'Name2'])\n",
    "\n",
    "**specify null vals**\n",
    "\n",
    "data = pd.read_csv(filepath, na_values = ['NA', 99])"
   ]
  },
  {
   "cell_type": "code",
   "execution_count": 3,
   "id": "2149cfed-c0d4-4de3-a999-cd5cd38f86f6",
   "metadata": {},
   "outputs": [
    {
     "ename": "NameError",
     "evalue": "name 'data' is not defined",
     "output_type": "error",
     "traceback": [
      "\u001b[1;31m---------------------------------------------------------------------------\u001b[0m",
      "\u001b[1;31mNameError\u001b[0m                                 Traceback (most recent call last)",
      "Cell \u001b[1;32mIn[3], line 1\u001b[0m\n\u001b[1;32m----> 1\u001b[0m \u001b[38;5;28mprint\u001b[39m(\u001b[43mdata\u001b[49m\u001b[38;5;241m.\u001b[39miloc[:\u001b[38;5;241m5\u001b[39m])\n",
      "\u001b[1;31mNameError\u001b[0m: name 'data' is not defined"
     ]
    }
   ],
   "source": [
    "print(data.iloc[:5])"
   ]
  },
  {
   "cell_type": "markdown",
   "id": "c86dd743-5af3-46f4-b82a-afc30c938d0d",
   "metadata": {},
   "source": [
    "# Importing JSON Files"
   ]
  },
  {
   "cell_type": "code",
   "execution_count": 4,
   "id": "2f96ffc4-6a08-4619-a56b-2970c2b21965",
   "metadata": {},
   "outputs": [
    {
     "ename": "NameError",
     "evalue": "name 'pd' is not defined",
     "output_type": "error",
     "traceback": [
      "\u001b[1;31m---------------------------------------------------------------------------\u001b[0m",
      "\u001b[1;31mNameError\u001b[0m                                 Traceback (most recent call last)",
      "Cell \u001b[1;32mIn[4], line 2\u001b[0m\n\u001b[0;32m      1\u001b[0m \u001b[38;5;66;03m#read\u001b[39;00m\n\u001b[1;32m----> 2\u001b[0m data \u001b[38;5;241m=\u001b[39m \u001b[43mpd\u001b[49m\u001b[38;5;241m.\u001b[39mread_json(filepath)\n\u001b[0;32m      4\u001b[0m \u001b[38;5;66;03m#write\u001b[39;00m\n\u001b[0;32m      5\u001b[0m data\u001b[38;5;241m.\u001b[39mto_json(\u001b[38;5;124m'\u001b[39m\u001b[38;5;124moutputfile.json\u001b[39m\u001b[38;5;124m'\u001b[39m)\n",
      "\u001b[1;31mNameError\u001b[0m: name 'pd' is not defined"
     ]
    }
   ],
   "source": [
    "#read\n",
    "data = pd.read_json(filepath)\n",
    "\n",
    "#write\n",
    "data.to_json('outputfile.json')"
   ]
  },
  {
   "cell_type": "markdown",
   "id": "ff4cfcbd-ab10-4f99-bf46-87a77d142359",
   "metadata": {},
   "source": [
    "# SQL Databases"
   ]
  },
  {
   "cell_type": "code",
   "execution_count": 5,
   "id": "591ffadf-d556-41f3-9742-f4aa3f922407",
   "metadata": {},
   "outputs": [
    {
     "ename": "ModuleNotFoundError",
     "evalue": "No module named 'pandas'",
     "output_type": "error",
     "traceback": [
      "\u001b[1;31m---------------------------------------------------------------------------\u001b[0m",
      "\u001b[1;31mModuleNotFoundError\u001b[0m                       Traceback (most recent call last)",
      "Cell \u001b[1;32mIn[5], line 2\u001b[0m\n\u001b[0;32m      1\u001b[0m \u001b[38;5;28;01mimport\u001b[39;00m \u001b[38;5;21;01msqlite3\u001b[39;00m \u001b[38;5;28;01mas\u001b[39;00m \u001b[38;5;21;01msq3\u001b[39;00m\n\u001b[1;32m----> 2\u001b[0m \u001b[38;5;28;01mimport\u001b[39;00m \u001b[38;5;21;01mpandas\u001b[39;00m \u001b[38;5;28;01mas\u001b[39;00m \u001b[38;5;21;01mpd\u001b[39;00m\n\u001b[0;32m      4\u001b[0m path \u001b[38;5;241m=\u001b[39m \u001b[38;5;124m'\u001b[39m\u001b[38;5;124mdata/classic_rock.db\u001b[39m\u001b[38;5;124m'\u001b[39m\n\u001b[0;32m      6\u001b[0m con \u001b[38;5;241m=\u001b[39m sq3\u001b[38;5;241m.\u001b[39mConnection(path)\n",
      "\u001b[1;31mModuleNotFoundError\u001b[0m: No module named 'pandas'"
     ]
    }
   ],
   "source": [
    "import sqlite3 as sq3\n",
    "import pandas as pd\n",
    "\n",
    "path = 'data/classic_rock.db'\n",
    "\n",
    "con = sq3.Connection(path)\n",
    "\n",
    "query = ''' SELECT * FROM rock_songs;'''\n",
    "\n",
    "data = pd.read_sql(query, con)"
   ]
  },
  {
   "cell_type": "markdown",
   "id": "427ab647-e58a-4246-bd1e-7e4b070162d3",
   "metadata": {},
   "source": [
    "# NoSQL"
   ]
  },
  {
   "cell_type": "code",
   "execution_count": null,
   "id": "089ea1f9-81c1-473e-a749-dae8973eb6c8",
   "metadata": {},
   "outputs": [],
   "source": [
    "from pymongo import MongoClient\n",
    "import pandas as pd\n",
    "con = MongoClient()\n",
    "\n",
    "#can pull multiple databases from that connection, specify db name with this attribute\n",
    "db = con.database_name\n",
    "\n",
    "# often just {}\n",
    "cursor = db.collection_name.find(query)\n",
    "df = pd.DataFrame(list(cursor))"
   ]
  },
  {
   "cell_type": "markdown",
   "id": "c2b09849-4a94-4d6d-b8d5-850458dab3e2",
   "metadata": {},
   "source": [
    "# APIs"
   ]
  },
  {
   "cell_type": "code",
   "execution_count": null,
   "id": "4b49fa86-2776-4654-a29f-be27c7be20ab",
   "metadata": {},
   "outputs": [],
   "source": [
    "data_url = 'adslfjal'\n",
    "\n",
    "df =  pd.read_csv(data_url, header=None)"
   ]
  }
 ],
 "metadata": {
  "kernelspec": {
   "display_name": "Python 3 (ipykernel)",
   "language": "python",
   "name": "python3"
  },
  "language_info": {
   "codemirror_mode": {
    "name": "ipython",
    "version": 3
   },
   "file_extension": ".py",
   "mimetype": "text/x-python",
   "name": "python",
   "nbconvert_exporter": "python",
   "pygments_lexer": "ipython3",
   "version": "3.12.1"
  }
 },
 "nbformat": 4,
 "nbformat_minor": 5
}
